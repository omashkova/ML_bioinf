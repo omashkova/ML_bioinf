{
 "cells": [
  {
   "cell_type": "markdown",
   "metadata": {},
   "source": [
    "# Наивный Байес и спам\n",
    "__Суммарное количество баллов: 10__\n"
   ]
  },
  {
   "cell_type": "code",
   "execution_count": 188,
   "metadata": {},
   "outputs": [],
   "source": [
    "from sklearn.model_selection import train_test_split\n",
    "import numpy as np\n",
    "import pandas as pd\n",
    "import random\n",
    "import matplotlib.pyplot as plt\n",
    "import matplotlib\n",
    "import copy\n",
    "import spacy\n",
    "from nltk.stem.snowball import SnowballStemmer\n",
    "from collections import Counter, OrderedDict, defaultdict\n",
    "import copy"
   ]
  },
  {
   "cell_type": "code",
   "execution_count": 189,
   "metadata": {},
   "outputs": [],
   "source": [
    "import re\n",
    "def read_dataset(filename):\n",
    "    file = open(filename, encoding=\"utf-8\")\n",
    "    x = []\n",
    "    y = []\n",
    "    for line in file:\n",
    "        cl, sms = re.split(\"^(ham|spam)[\\t\\s]+(.*)$\", line)[1:3]\n",
    "        x.append(sms)\n",
    "        y.append(cl)\n",
    "    return np.array(x, dtype=np.str), np.array(y, dtype=np.str)"
   ]
  },
  {
   "cell_type": "code",
   "execution_count": 190,
   "metadata": {},
   "outputs": [
    {
     "data": {
      "text/html": [
       "<div>\n",
       "<style scoped>\n",
       "    .dataframe tbody tr th:only-of-type {\n",
       "        vertical-align: middle;\n",
       "    }\n",
       "\n",
       "    .dataframe tbody tr th {\n",
       "        vertical-align: top;\n",
       "    }\n",
       "\n",
       "    .dataframe thead th {\n",
       "        text-align: right;\n",
       "    }\n",
       "</style>\n",
       "<table border=\"1\" class=\"dataframe\">\n",
       "  <thead>\n",
       "    <tr style=\"text-align: right;\">\n",
       "      <th></th>\n",
       "      <th>label</th>\n",
       "      <th>text</th>\n",
       "    </tr>\n",
       "  </thead>\n",
       "  <tbody>\n",
       "    <tr>\n",
       "      <th>0</th>\n",
       "      <td>ham</td>\n",
       "      <td>Go until jurong point, crazy.. Available only ...</td>\n",
       "    </tr>\n",
       "    <tr>\n",
       "      <th>1</th>\n",
       "      <td>ham</td>\n",
       "      <td>Ok lar... Joking wif u oni...</td>\n",
       "    </tr>\n",
       "    <tr>\n",
       "      <th>2</th>\n",
       "      <td>spam</td>\n",
       "      <td>Free entry in 2 a wkly comp to win FA Cup fina...</td>\n",
       "    </tr>\n",
       "  </tbody>\n",
       "</table>\n",
       "</div>"
      ],
      "text/plain": [
       "  label                                               text\n",
       "0   ham  Go until jurong point, crazy.. Available only ...\n",
       "1   ham                      Ok lar... Joking wif u oni...\n",
       "2  spam  Free entry in 2 a wkly comp to win FA Cup fina..."
      ]
     },
     "execution_count": 190,
     "metadata": {},
     "output_type": "execute_result"
    }
   ],
   "source": [
    "df = pd.read_csv('./hw6_data/spam', delimiter='\\t', header = None, encoding='utf-8')\n",
    "df.columns = ['label', 'text']\n",
    "X = df[df.columns.difference(['label'])]\n",
    "y = df.label\n",
    "X_train, X_val, y_train, y_val = train_test_split(X, y, test_size=0.1, random_state=42)\n",
    "df.head(3)"
   ]
  },
  {
   "cell_type": "code",
   "execution_count": 191,
   "metadata": {},
   "outputs": [],
   "source": [
    "def get_precision_recall_accuracy(y_pred, y_true):\n",
    "    classes = np.unique(list(y_pred) + list(y_true))\n",
    "    true_positive = dict((c, 0) for c in classes)\n",
    "    true_negative = dict((c, 0) for c in classes)\n",
    "    false_positive = dict((c, 0) for c in classes)\n",
    "    false_negative = dict((c, 0) for c in classes)\n",
    "    for c_pred, c_true in zip(y_pred, y_true):\n",
    "        for c in classes:\n",
    "            if c_true == c:\n",
    "                if c_pred == c_true:\n",
    "                    true_positive[c] = true_positive.get(c, 0) + 1\n",
    "                else:\n",
    "                    false_negative[c] = false_negative.get(c, 0) + 1\n",
    "            else:\n",
    "                if c_pred == c:\n",
    "                    false_positive[c] = false_positive.get(c, 0) + 1\n",
    "                else:\n",
    "                    true_negative[c] = true_negative.get(c, 0) + 1\n",
    "    precision = {}\n",
    "    recall = {}\n",
    "    for c in classes:\n",
    "        if true_positive[c] + false_positive[c] != 0:\n",
    "            precision[c] = true_positive[c] / (true_positive[c] + false_positive[c])\n",
    "        else:\n",
    "            precision[c] = 0\n",
    "    #precision = dict((c, true_positive[c] / (true_positive[c] + false_positive[c])) for c in classes)\n",
    "    recall = dict((c, true_positive[c] / (true_positive[c] + false_negative[c])) for c in classes)\n",
    "    accuracy = sum([true_positive[c] for c in classes]) / len(y_pred)\n",
    "    return precision, recall, accuracy\n",
    "\n",
    "def plot_precision_recall(X_train, y_train, y_train_num, X_test, y_test, bow_method, voc_sizes=range(4, 200, 5)):\n",
    "    classes = np.unique(list(y_train_num) + list(y_test))\n",
    "    precisions = dict([(c, []) for c in classes])\n",
    "    recalls = dict([(c, []) for c in classes])\n",
    "    accuracies = []\n",
    "    for v in voc_sizes:\n",
    "        bow = bow_method(X_train, voc_limit=v)\n",
    "        X_train_transformed = bow.transform(X_train)\n",
    "        X_test_transformed = bow.transform(X_test)\n",
    "        classifier = NaiveBayes(0.001)\n",
    "        classifier.fit(X_train_transformed, y_train)\n",
    "        y_pred = classifier.predict(X_test_transformed)\n",
    "        precision, recall, acc = get_precision_recall_accuracy(y_pred, y_test)\n",
    "        for c in classes:\n",
    "            precisions[c].append(precision[c])\n",
    "            recalls[c].append(recall[c])\n",
    "        accuracies.append(acc)\n",
    "    def plot(x, ys, ylabel, legend=True):        \n",
    "        plt.figure(figsize = (12, 3))\n",
    "        plt.xlabel(\"Vocabulary size\")\n",
    "        plt.ylabel(ylabel)\n",
    "        plt.xlim(x[0], x[-1])\n",
    "        plt.ylim(np.min(list(ys.values()))-0.01, np.max(list(ys.values()))+0.01)\n",
    "        for c in ys.keys():\n",
    "            plt.plot(x, ys[c], label=\"Class \" + str(c))\n",
    "        if legend:\n",
    "            plt.legend()\n",
    "        plt.tight_layout()\n",
    "        plt.show()\n",
    "    \n",
    "    plot(voc_sizes, recalls, \"Recall\")\n",
    "    plot(voc_sizes, precisions, \"Precision\")\n",
    "    plot(voc_sizes, {\"\":accuracies}, \"Accuracy\", legend=False)"
   ]
  },
  {
   "cell_type": "markdown",
   "metadata": {},
   "source": [
    "### Задание 1 (3 балла)\n",
    "Реализуйте классификацию методом Байеса в предположении независимости компонент `x`. При реализации следует считать, что значения каждой компоненты дискретны, а `p(x|y)` имеет мультиномиальное распределение.\n",
    "\n",
    "#### Методы\n",
    "`fit(X, y)` - оценивает параметры распределения `p(x|y)` для каждого `y`. \n",
    "\n",
    "`log_proba(X)` - для каждого элемента набора `X` считает логарифм вероятности отнести его к каждому классу. По теореме Байеса: `p(y|x) = p(y)p(x|y)/p(x)`. Соответственно, после логарифмирования: `log p(y|x) = log p(y) + log p(x|y) - log p(x)`. Поскольку `log p(x)` является независящей от класса `y` константой, это слагаемое никак не влияет на решение задачи максимизации. Поэтому его можно просто убрать для простоты."
   ]
  },
  {
   "cell_type": "code",
   "execution_count": 192,
   "metadata": {},
   "outputs": [],
   "source": [
    "class NaiveBayes:\n",
    "    def __init__(self, alpha):\n",
    "        self.alpha = alpha # Параметр аддитивной регуляризации\n",
    "        self.classes = None\n",
    "        self.classP = None\n",
    "        self.class2id = None\n",
    "        self.class2tokenP = defaultdict(dict)\n",
    "        self.vocabulary = None\n",
    "    \n",
    "    def fit(self, X, y):\n",
    "        class2cnt = y.value_counts().reset_index().values\n",
    "        nclasses = len(class2cnt)\n",
    "        self.classes = np.array([c[0] for c in class2cnt])\n",
    "        self.class2id = {c:i for i, c in enumerate(self.classes)}\n",
    "        self.classP = np.array([c[1]/y.shape[0] for c in class2cnt])\n",
    "        y_values = y.values\n",
    "        corpus = X\n",
    "        token2cnt = defaultdict(int)\n",
    "        token2class_cnt = {}\n",
    "        for y_pos, text in enumerate(corpus):\n",
    "            cnt = Counter(text)\n",
    "            y_class_id = self.class2id[y_values[y_pos]]\n",
    "            for token, n in cnt.items():\n",
    "                token2cnt[token] += n\n",
    "                if not token in token2class_cnt:\n",
    "                    token2class_cnt[token] = np.zeros(nclasses)\n",
    "                token2class_cnt[token][y_class_id] += n\n",
    "        self.vocabulary = set(token2cnt.keys())\n",
    "        V = len(self.vocabulary)\n",
    "        for token in self.vocabulary:\n",
    "            token_cnt = token2cnt[token]\n",
    "            token_class_cnt = token2class_cnt[token]\n",
    "            classes_probs = (token_class_cnt + self.alpha) / (token_cnt + V + 1)\n",
    "            for cpos, prob in enumerate(classes_probs):\n",
    "                self.class2tokenP[cpos][token] = prob\n",
    "                \n",
    "    def predict_row(self, x):\n",
    "        cnt = Counter(x)\n",
    "        n_classes = self.classP.shape[0]\n",
    "        likelihood_v = np.log(self.classP)\n",
    "        for cpos in range(n_classes):\n",
    "            for token, ft in cnt.items():\n",
    "                if token in self.vocabulary:\n",
    "                    likelihood_v[cpos] += np.log(self.class2tokenP[cpos][token])\n",
    "        likelihood_v = 1 + likelihood_v / np.abs(np.sum(likelihood_v))\n",
    "        return likelihood_v, np.argmax(likelihood_v)\n",
    "    '''\n",
    "        \n",
    "    def predict(self, X):\n",
    "        return [self.classes[i] for i in np.argmax(self.log_proba(X), axis=1)]\n",
    "    '''\n",
    "    \n",
    "    def log_proba(self, X):\n",
    "        texts = X\n",
    "        probabilities = []\n",
    "        for t in texts:\n",
    "            prob, pred_c = self.predict_row(t)\n",
    "            probabilities.append(prob[1])\n",
    "        return probabilities\n",
    "    \n",
    "    def predict(self, X):\n",
    "        texts = X\n",
    "        predictions = []\n",
    "        for t in texts:\n",
    "            prob, pred_c = self.predict_row(t)\n",
    "            predictions.append(pred_c)\n",
    "        return predictions"
   ]
  },
  {
   "cell_type": "markdown",
   "metadata": {},
   "source": [
    "### Задание 2 (3 балла)\n",
    "Теперь реализуем метод bag of words. Задача состоит в том, чтобы посчитать количество вхождений каждого слова в предложение.\n",
    "\n",
    "#### Методы\n",
    "`__init__(X, voc_limit)` - инициализирует BoW, составляя словарь, который будет использоваться для векторизации предложений. Размер словаря должен быть не больше `voc_limit`, в него должны входить самые часто встречающиеся в выборке слова.\n",
    "\n",
    "`transform(X)` - векторизует сообщения из набора."
   ]
  },
  {
   "cell_type": "code",
   "execution_count": 193,
   "metadata": {},
   "outputs": [],
   "source": [
    "class BoW:\n",
    "    def __init__(self, X, voc_limit=1000):\n",
    "        self.X = X.values\n",
    "        self.voc_limit = voc_limit\n",
    "        self.bow = self.create_dict()\n",
    "        \n",
    "    def create_dict(self):\n",
    "        c = Counter()\n",
    "        for i in range(self.X.shape[0]):\n",
    "            word_list = np.array(re.sub(\"[^\\w]\", \" \",  self.X[i][0].lower()).split())\n",
    "            counter = Counter(word_list)\n",
    "            c += counter\n",
    "        if len(c) > self.voc_limit:\n",
    "            return OrderedDict(c.most_common(self.voc_limit))\n",
    "        else:\n",
    "            return OrderedDict(c.most_common())\n",
    "        \n",
    "    def transform(self, X):\n",
    "        transformed_X = []\n",
    "        X = X.values\n",
    "        for i in range(X.shape[0]):\n",
    "            word_list = np.array(re.sub(\"[^\\w]\", \" \",  X[i][0].lower()).split())\n",
    "            for word in np.unique(word_list):\n",
    "                if word in self.bow.keys():\n",
    "                    word_list = np.where(word_list == word, self.bow[word], word_list)\n",
    "                else:\n",
    "                    word_list = np.where(word_list == word, 0, word_list)\n",
    "            transformed_X.append(word_list.astype(int))\n",
    "        return np.array(transformed_X)"
   ]
  },
  {
   "cell_type": "code",
   "execution_count": 194,
   "metadata": {},
   "outputs": [
    {
     "name": "stderr",
     "output_type": "stream",
     "text": [
      "/usr/local/lib/python3.7/site-packages/ipykernel_launcher.py:29: VisibleDeprecationWarning: Creating an ndarray from ragged nested sequences (which is a list-or-tuple of lists-or-tuples-or ndarrays with different lengths or shapes) is deprecated. If you meant to do this, you must specify 'dtype=object' when creating the ndarray\n"
     ]
    }
   ],
   "source": [
    "bow = BoW(X_train, voc_limit=500)\n",
    "X_train_bow = bow.transform(X_train)\n",
    "X_test_bow = bow.transform(X_val)"
   ]
  },
  {
   "cell_type": "code",
   "execution_count": 195,
   "metadata": {},
   "outputs": [
    {
     "data": {
      "text/plain": [
       "({0: 0.8691756272401434, 1: 0}, {0: 1.0, 1: 0.0}, 0.8691756272401434)"
      ]
     },
     "execution_count": 195,
     "metadata": {},
     "output_type": "execute_result"
    }
   ],
   "source": [
    "predictor = NaiveBayes(0.001)\n",
    "y_num_train = [int(y=='spam') for y in y_train]\n",
    "predictor.fit(X_train_bow, y_train)\n",
    "y_pred = predictor.predict(X_test_bow)\n",
    "y_num_val = [int(y=='spam') for y in y_val]\n",
    "get_precision_recall_accuracy(y_pred, y_num_val)"
   ]
  },
  {
   "cell_type": "code",
   "execution_count": 196,
   "metadata": {},
   "outputs": [
    {
     "name": "stderr",
     "output_type": "stream",
     "text": [
      "/usr/local/lib/python3.7/site-packages/ipykernel_launcher.py:29: VisibleDeprecationWarning: Creating an ndarray from ragged nested sequences (which is a list-or-tuple of lists-or-tuples-or ndarrays with different lengths or shapes) is deprecated. If you meant to do this, you must specify 'dtype=object' when creating the ndarray\n"
     ]
    },
    {
     "data": {
      "image/png": "[encoded data removed]",
      "text/plain": [
       "<Figure size 864x216 with 1 Axes>"
      ]
     },
     "metadata": {
      "needs_background": "light"
     },
     "output_type": "display_data"
    },
    {
     "data": {
      "image/png": "[encoded data removed]",
      "text/plain": [
       "<Figure size 864x216 with 1 Axes>"
      ]
     },
     "metadata": {
      "needs_background": "light"
     },
     "output_type": "display_data"
    },
    {
     "data": {
      "image/png": "[encoded data removed]",
      "text/plain": [
       "<Figure size 864x216 with 1 Axes>"
      ]
     },
     "metadata": {
      "needs_background": "light"
     },
     "output_type": "display_data"
    }
   ],
   "source": [
    "plot_precision_recall(X_train, y_train, y_num_train, X_val, y_num_val, BoW)"
   ]
  },
  {
   "cell_type": "markdown",
   "metadata": {},
   "source": [
    "### Задание 3 (2 балла)\n",
    "Теперь добавим в BoW стемминг. Для этого нам понадобится класс SnowballStemmer из пакета `nltk`\n",
    "\n",
    "#### Методы\n",
    "`__init__(X, voc_limit)` - инициализирует BoW, составляя словарь, который будет использоваться для векторизации предложений. Размер словаря должен быть не больше `voc_limit`, в него должны входить самые часто встречающиеся в выборке слова.\n",
    "\n",
    "`transform(X)` - векторизует сообщения из набора."
   ]
  },
  {
   "cell_type": "code",
   "execution_count": 197,
   "metadata": {},
   "outputs": [],
   "source": [
    "class BowStem:\n",
    "    def __init__(self, X, voc_limit=1000):\n",
    "        self.X = X.values\n",
    "        self.voc_limit = voc_limit\n",
    "        self.bow = self.create_dict()\n",
    "        \n",
    "    def create_dict(self):\n",
    "        c = Counter()\n",
    "        stemmer = SnowballStemmer('english')\n",
    "        for i in range(self.X.shape[0]):\n",
    "            word_list = np.array(re.sub(\"[^\\w]\", \" \",  self.X[i][0].lower()).split())\n",
    "            for word in np.unique(word_list):\n",
    "                word_list = np.where(word_list == word, stemmer.stem(word), word_list)\n",
    "            counter = Counter(word_list)\n",
    "            c += counter\n",
    "        if len(c) > self.voc_limit:\n",
    "            return OrderedDict(c.most_common(self.voc_limit))\n",
    "        else:\n",
    "            return OrderedDict(c.most_common())\n",
    "        \n",
    "    def transform(self, X):\n",
    "        transformed_X = []\n",
    "        X = X.values\n",
    "        stemmer = SnowballStemmer('english')\n",
    "        for i in range(X.shape[0]):\n",
    "            word_list = np.array(re.sub(\"[^\\w]\", \" \",  X[i][0].lower()).split())\n",
    "            for word in np.unique(word_list):\n",
    "                word_list = np.where(word_list == word, stemmer.stem(word), word_list)\n",
    "            for word in np.unique(word_list):\n",
    "                if word in self.bow.keys():\n",
    "                    word_list = np.where(word_list == word, self.bow[word], word_list)\n",
    "                else:\n",
    "                    word_list = np.where(word_list == word, 0, word_list)\n",
    "            transformed_X.append(word_list.astype(int))\n",
    "        return np.array(transformed_X)"
   ]
  },
  {
   "cell_type": "code",
   "execution_count": 198,
   "metadata": {},
   "outputs": [
    {
     "name": "stderr",
     "output_type": "stream",
     "text": [
      "/usr/local/lib/python3.7/site-packages/ipykernel_launcher.py:35: VisibleDeprecationWarning: Creating an ndarray from ragged nested sequences (which is a list-or-tuple of lists-or-tuples-or ndarrays with different lengths or shapes) is deprecated. If you meant to do this, you must specify 'dtype=object' when creating the ndarray\n"
     ]
    }
   ],
   "source": [
    "bows = BowStem(X_train, voc_limit=500)\n",
    "X_train_bows = bows.transform(X_train)\n",
    "X_test_bows = bows.transform(X_val)"
   ]
  },
  {
   "cell_type": "code",
   "execution_count": 199,
   "metadata": {},
   "outputs": [
    {
     "data": {
      "text/plain": [
       "({0: 0.8691756272401434, 1: 0}, {0: 1.0, 1: 0.0}, 0.8691756272401434)"
      ]
     },
     "execution_count": 199,
     "metadata": {},
     "output_type": "execute_result"
    }
   ],
   "source": [
    "predictor = NaiveBayes(0.001)\n",
    "y_num_train = [int(y=='spam') for y in y_train]\n",
    "predictor.fit(X_train_bows, y_train)\n",
    "y_pred = predictor.predict(X_test_bows)\n",
    "y_num_val = [int(y=='spam') for y in y_val]\n",
    "get_precision_recall_accuracy(y_pred, y_num_val)"
   ]
  },
  {
   "cell_type": "code",
   "execution_count": 200,
   "metadata": {},
   "outputs": [
    {
     "name": "stderr",
     "output_type": "stream",
     "text": [
      "/usr/local/lib/python3.7/site-packages/ipykernel_launcher.py:35: VisibleDeprecationWarning: Creating an ndarray from ragged nested sequences (which is a list-or-tuple of lists-or-tuples-or ndarrays with different lengths or shapes) is deprecated. If you meant to do this, you must specify 'dtype=object' when creating the ndarray\n"
     ]
    },
    {
     "data": {
      "image/png": "[encoded data removed]",
      "text/plain": [
       "<Figure size 864x216 with 1 Axes>"
      ]
     },
     "metadata": {
      "needs_background": "light"
     },
     "output_type": "display_data"
    },
    {
     "data": {
      "image/png": "[encoded data removed]",
      "text/plain": [
       "<Figure size 864x216 with 1 Axes>"
      ]
     },
     "metadata": {
      "needs_background": "light"
     },
     "output_type": "display_data"
    },
    {
     "data": {
      "image/png": "[encoded data removed]",
      "text/plain": [
       "<Figure size 864x216 with 1 Axes>"
      ]
     },
     "metadata": {
      "needs_background": "light"
     },
     "output_type": "display_data"
    }
   ],
   "source": [
    "plot_precision_recall(X_train, y_train, y_num_train, X_val, y_num_val, BowStem)"
   ]
  },
  {
   "cell_type": "code",
   "execution_count": null,
   "metadata": {},
   "outputs": [],
   "source": []
  }
 ],
 "metadata": {
  "kernelspec": {
   "display_name": "Python 3",
   "language": "python",
   "name": "python3"
  },
  "language_info": {
   "codemirror_mode": {
    "name": "ipython",
    "version": 3
   },
   "file_extension": ".py",
   "mimetype": "text/x-python",
   "name": "python",
   "nbconvert_exporter": "python",
   "pygments_lexer": "ipython3",
   "version": "3.7.4"
  }
 },
 "nbformat": 4,
 "nbformat_minor": 2
}
